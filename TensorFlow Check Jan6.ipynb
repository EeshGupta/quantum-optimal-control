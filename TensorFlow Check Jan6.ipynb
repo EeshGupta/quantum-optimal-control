{
 "cells": [
  {
   "cell_type": "code",
   "execution_count": 1,
   "id": "85f576ce",
   "metadata": {},
   "outputs": [],
   "source": [
    "from tensorflow import keras"
   ]
  },
  {
   "cell_type": "code",
   "execution_count": 2,
   "id": "e9435c9a",
   "metadata": {},
   "outputs": [],
   "source": [
    "from tensorflow import compiler"
   ]
  },
  {
   "cell_type": "code",
   "execution_count": 3,
   "id": "4b14db07",
   "metadata": {},
   "outputs": [
    {
     "ename": "ImportError",
     "evalue": "cannot import name 'placeholder' from 'tensorflow' (C:\\Users\\Eesh Gupta\\anaconda\\lib\\site-packages\\tensorflow\\__init__.py)",
     "output_type": "error",
     "traceback": [
      "\u001b[1;31m---------------------------------------------------------------------------\u001b[0m",
      "\u001b[1;31mImportError\u001b[0m                               Traceback (most recent call last)",
      "\u001b[1;32m<ipython-input-3-68d410e1499b>\u001b[0m in \u001b[0;36m<module>\u001b[1;34m\u001b[0m\n\u001b[1;32m----> 1\u001b[1;33m \u001b[1;32mfrom\u001b[0m \u001b[0mtensorflow\u001b[0m \u001b[1;32mimport\u001b[0m \u001b[0mplaceholder\u001b[0m\u001b[1;33m\u001b[0m\u001b[1;33m\u001b[0m\u001b[0m\n\u001b[0m",
      "\u001b[1;31mImportError\u001b[0m: cannot import name 'placeholder' from 'tensorflow' (C:\\Users\\Eesh Gupta\\anaconda\\lib\\site-packages\\tensorflow\\__init__.py)"
     ]
    }
   ],
   "source": [
    "from tensorflow import placeholder"
   ]
  },
  {
   "cell_type": "code",
   "execution_count": 4,
   "id": "9d24c826",
   "metadata": {},
   "outputs": [],
   "source": [
    "from tensorflow.compat.v1 import placeholder "
   ]
  },
  {
   "cell_type": "code",
   "execution_count": null,
   "id": "a1c3eba8",
   "metadata": {},
   "outputs": [],
   "source": []
  }
 ],
 "metadata": {
  "kernelspec": {
   "display_name": "Python 3",
   "language": "python",
   "name": "python3"
  },
  "language_info": {
   "codemirror_mode": {
    "name": "ipython",
    "version": 3
   },
   "file_extension": ".py",
   "mimetype": "text/x-python",
   "name": "python",
   "nbconvert_exporter": "python",
   "pygments_lexer": "ipython3",
   "version": "3.8.8"
  }
 },
 "nbformat": 4,
 "nbformat_minor": 5
}
